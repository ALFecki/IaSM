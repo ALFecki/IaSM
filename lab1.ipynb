{
 "cells": [
  {
   "cell_type": "code",
   "execution_count": 136,
   "metadata": {},
   "outputs": [],
   "source": [
    "import matplotlib.pyplot as plt\n",
    "import random"
   ]
  },
  {
   "cell_type": "code",
   "execution_count": 137,
   "id": "798a1ea5",
   "metadata": {},
   "outputs": [],
   "source": [
    "class LinearCongruentialGenerator:\n",
    "    seed = 42\n",
    "    alpha = 1664525\n",
    "    c = 1013904223\n",
    "    m = 2 ** 32\n",
    "    x_current = seed\n",
    "     \n",
    "    @staticmethod\n",
    "    def random():\n",
    "        LinearCongruentialGenerator.x_current = (LinearCongruentialGenerator.alpha * LinearCongruentialGenerator.x_current + LinearCongruentialGenerator.c) % LinearCongruentialGenerator.m\n",
    "        return LinearCongruentialGenerator.x_current / LinearCongruentialGenerator.m"
   ]
  },
  {
   "cell_type": "code",
   "execution_count": 138,
   "id": "70a62a8b",
   "metadata": {},
   "outputs": [],
   "source": [
    "generator = LinearCongruentialGenerator()\n",
    "num_samples = 10**6"
   ]
  },
  {
   "cell_type": "markdown",
   "id": "5e51cf3a",
   "metadata": {},
   "source": [
    "# Task 1"
   ]
  },
  {
   "cell_type": "code",
   "execution_count": 139,
   "id": "56cb3c42",
   "metadata": {},
   "outputs": [],
   "source": [
    "def task1(p):\n",
    "    return generator.random() < p"
   ]
  },
  {
   "cell_type": "code",
   "execution_count": 140,
   "id": "0bca8613",
   "metadata": {},
   "outputs": [],
   "source": [
    "custom_p = -1\n",
    "while not 0 <= custom_p <= 1:\n",
    "    custom_p = float(input(\"Enter probability (from 0 to 1)\\n\"))"
   ]
  },
  {
   "cell_type": "code",
   "execution_count": 141,
   "id": "fa33d43f",
   "metadata": {},
   "outputs": [
    {
     "name": "stdout",
     "output_type": "stream",
     "text": [
      "0.299699\n"
     ]
    }
   ],
   "source": [
    "count_true = sum(1 for _ in range(num_samples) if task1(custom_p))\n",
    "print(count_true / num_samples)"
   ]
  },
  {
   "cell_type": "markdown",
   "id": "6acba8a2",
   "metadata": {},
   "source": [
    "# Task 2"
   ]
  },
  {
   "cell_type": "code",
   "execution_count": 142,
   "id": "61767fd6",
   "metadata": {},
   "outputs": [],
   "source": [
    "k = -1\n",
    "while not (k >= 1): \n",
    "    k = int(input(\"Enter the number of random events (k):\\n\"))"
   ]
  },
  {
   "cell_type": "code",
   "execution_count": 143,
   "id": "6c48bd3b",
   "metadata": {},
   "outputs": [],
   "source": [
    "probabilities = []\n",
    "\n",
    "for i in range(k):   \n",
    "    probabilities.append(float(input(f\"Enter more {k - i} probabilities (from 0 to 1)\\n\")))"
   ]
  },
  {
   "cell_type": "code",
   "execution_count": 144,
   "id": "28617d36",
   "metadata": {},
   "outputs": [],
   "source": [
    "def task2(probabilities):\n",
    "    result = []\n",
    "    for i in range(len(probabilities)):\n",
    "        result.append(generator.random() < probabilities[i])\n",
    "    return result"
   ]
  },
  {
   "cell_type": "code",
   "execution_count": 145,
   "id": "1d0c830e",
   "metadata": {},
   "outputs": [],
   "source": [
    "count = [{True: 0, False: 0} for _ in range(len(probabilities))]\n",
    "\n",
    "for i in range(num_samples):\n",
    "    res = task2(probabilities)\n",
    "    for j in range(len(res)):\n",
    "        count[j][res[j]] += 1"
   ]
  },
  {
   "cell_type": "code",
   "execution_count": 146,
   "id": "d3b6e971",
   "metadata": {},
   "outputs": [
    {
     "name": "stdout",
     "output_type": "stream",
     "text": [
      "0.200043 0.300283 0.500582 0.100239\n"
     ]
    }
   ],
   "source": [
    "emperical_p = []\n",
    "for i in count:\n",
    "    emperical_p.append(i[True] / (i[True] + i[False]))\n",
    "print(*emperical_p)"
   ]
  },
  {
   "cell_type": "code",
   "execution_count": 147,
   "id": "c972681e",
   "metadata": {},
   "outputs": [
    {
     "data": {
      "image/png": "[encoded data removed]",
      "text/plain": [
       "<Figure size 640x480 with 1 Axes>"
      ]
     },
     "metadata": {},
     "output_type": "display_data"
    }
   ],
   "source": [
    "plt.bar([i for i in range(1, len(probabilities) + 1)], [count[i][True] / (count[i][True] + count[i][False]) for i in range(len(count))])\n",
    "\n",
    "plt.show()"
   ]
  },
  {
   "cell_type": "markdown",
   "id": "221317fa",
   "metadata": {},
   "source": [
    "# Task 3"
   ]
  },
  {
   "cell_type": "code",
   "execution_count": 148,
   "id": "0538f9e5",
   "metadata": {},
   "outputs": [],
   "source": [
    "p_a = -1\n",
    "while not 0 <= p_a <= 1:\n",
    "    p_a = float(input(\"Enter the probability P(A) (from 0 to 1)\\n\"))"
   ]
  },
  {
   "cell_type": "code",
   "execution_count": 149,
   "id": "bb5f392c",
   "metadata": {},
   "outputs": [],
   "source": [
    "p_b_a = -1\n",
    "while not 0 <= p_b_a <= 1:\n",
    "    p_b_a = float(input(\"Enter the probability P(B/A) (from 0 to 1)\\n\"))"
   ]
  },
  {
   "cell_type": "code",
   "execution_count": 150,
   "id": "a0167377",
   "metadata": {},
   "outputs": [],
   "source": [
    "def task3(p_a, p_b_a):\n",
    "    p_ab = p_a * p_b_a\n",
    "    p_a_notb = p_a * (1 - p_b_a)\n",
    "    p_nota_b = (1 - p_a) * (1 - p_b_a)\n",
    "    p_nota_notb = p_b_a * (1 - p_a)\n",
    "\n",
    "    r = generator.random()\n",
    "    if r <= p_ab:\n",
    "        return 0\n",
    "    elif r <= p_a_notb + p_ab:\n",
    "        return 1\n",
    "    elif r <= p_a_notb + p_ab + p_nota_b:\n",
    "        return 2\n",
    "    elif r <= p_a_notb + p_ab + p_nota_b + p_nota_notb:\n",
    "        return 3"
   ]
  },
  {
   "cell_type": "code",
   "execution_count": 151,
   "id": "d101defe",
   "metadata": {},
   "outputs": [],
   "source": [
    "count = {i: 0 for i in range(4)}\n",
    "\n",
    "for i in range(num_samples):\n",
    "    count[task3(p_a, p_b_a)] += 1"
   ]
  },
  {
   "cell_type": "code",
   "execution_count": 152,
   "id": "ddf42cb6",
   "metadata": {},
   "outputs": [
    {
     "data": {
      "image/png": "[encoded data removed]",
      "text/plain": [
       "<Figure size 640x480 with 1 Axes>"
      ]
     },
     "metadata": {},
     "output_type": "display_data"
    }
   ],
   "source": [
    "plt.bar([str(i) for i in range(4)], \n",
    "        [count[i] / num_samples for i in range(4)])\n",
    "plt.show()"
   ]
  },
  {
   "cell_type": "code",
   "execution_count": 153,
   "id": "b5df5cd6",
   "metadata": {},
   "outputs": [
    {
     "name": "stdout",
     "output_type": "stream",
     "text": [
      "0.239722 0.160258 0.240058 0.359962\n"
     ]
    }
   ],
   "source": [
    "emperical_p = [count[i] / num_samples for i in range(4)]\n",
    "print(*emperical_p)"
   ]
  },
  {
   "cell_type": "markdown",
   "id": "3e50cf95",
   "metadata": {},
   "source": [
    "# Task 4"
   ]
  },
  {
   "cell_type": "code",
   "execution_count": 154,
   "id": "b2fbf2b5",
   "metadata": {},
   "outputs": [],
   "source": [
    "k = -1\n",
    "while not (1 <= k): \n",
    "    k = int(input(\"Input random event number (k):\\n\"))"
   ]
  },
  {
   "cell_type": "code",
   "execution_count": 155,
   "id": "877fcf03",
   "metadata": {},
   "outputs": [],
   "source": [
    "probabilities = []\n",
    "\n",
    "while sum(probabilities) != 1:\n",
    "    for i in range(k):\n",
    "        probabilities.append(float(input(f\"Enter more {k - i} probabilities, available sum is {1 - sum(probabilities)}\")))"
   ]
  },
  {
   "cell_type": "code",
   "execution_count": 156,
   "id": "d25ae916",
   "metadata": {},
   "outputs": [],
   "source": [
    "def task4(probabilities):\n",
    "    s = probabilities[0]\n",
    "    step = 0\n",
    "    r = generator.random()\n",
    "    while True:\n",
    "        if r <= s:\n",
    "            return step\n",
    "        else:\n",
    "            step += 1\n",
    "            s += probabilities[step]"
   ]
  },
  {
   "cell_type": "code",
   "execution_count": 157,
   "id": "230551cc",
   "metadata": {},
   "outputs": [],
   "source": [
    "count = {i: 0 for i in range(len(probabilities))}\n",
    "\n",
    "for i in range(num_samples):\n",
    "    count[task4(probabilities)] += 1"
   ]
  },
  {
   "cell_type": "code",
   "execution_count": 158,
   "id": "c1cb3901",
   "metadata": {},
   "outputs": [
    {
     "name": "stdout",
     "output_type": "stream",
     "text": [
      "0.199504 0.400314 0.200542 0.19964\n"
     ]
    }
   ],
   "source": [
    "emperical_p = []\n",
    "for i in count:\n",
    "    emperical_p.append(count[i] / num_samples)\n",
    "print(*emperical_p)"
   ]
  },
  {
   "cell_type": "code",
   "execution_count": 159,
   "id": "6bd98d90",
   "metadata": {},
   "outputs": [
    {
     "data": {
      "image/png": "[encoded data removed]",
      "text/plain": [
       "<Figure size 640x480 with 1 Axes>"
      ]
     },
     "metadata": {},
     "output_type": "display_data"
    }
   ],
   "source": [
    "plt.bar([str(i) for i in range(len(count))], \n",
    "        [count[i] / num_samples for i in range(len(count))])\n",
    "plt.show()"
   ]
  },
  {
   "cell_type": "markdown",
   "id": "000715d7",
   "metadata": {},
   "source": [
    "# Дополнительное задание"
   ]
  },
  {
   "cell_type": "code",
   "execution_count": 164,
   "id": "d4abafb8",
   "metadata": {},
   "outputs": [],
   "source": [
    "def get_team_rates(k):\n",
    "    rates = []\n",
    "    for i in range(2 ** k):\n",
    "        successful = False\n",
    "        while not successful:\n",
    "            rate = int(input(f\"Input rate of team number {i + 1}:\\n\"))\n",
    "            if not 0 <= rate <= 100:\n",
    "                successful = False\n",
    "                continue\n",
    "            successful = True\n",
    "        rates.append(rate)\n",
    "    return rates"
   ]
  },
  {
   "cell_type": "code",
   "execution_count": 165,
   "id": "67fb35c6",
   "metadata": {},
   "outputs": [],
   "source": [
    "def play_round(playing_teams, rates, round_number):\n",
    "    random.shuffle(playing_teams)\n",
    "    print(f'\\nRound number {round_number + 1}')\n",
    "    \n",
    "    winners = []\n",
    "    for j in range(len(playing_teams) // 2):\n",
    "        first = playing_teams[j]\n",
    "        second = playing_teams[-(j + 1)]\n",
    "        print(f'Team {first} vs Team {second}')\n",
    "        \n",
    "        common_rate = rates[first - 1] + rates[second - 1]\n",
    "        res = task4([rates[first - 1] / common_rate, rates[second - 1] / common_rate])\n",
    "        \n",
    "        winner = first if res == 0 else second\n",
    "        print(f'Team number won - {winner}')\n",
    "        winners.append(winner)\n",
    "    \n",
    "    return winners"
   ]
  },
  {
   "cell_type": "code",
   "execution_count": 166,
   "id": "2dff2040",
   "metadata": {},
   "outputs": [],
   "source": [
    "def print_rates(rates):\n",
    "    print([{f\"Team {i + 1}\" : rates[i]} for i in range(len(rates))])"
   ]
  },
  {
   "cell_type": "code",
   "execution_count": 167,
   "id": "1f34e791",
   "metadata": {},
   "outputs": [
    {
     "name": "stdout",
     "output_type": "stream",
     "text": [
      "[{'Team 1': 12}, {'Team 2': 60}, {'Team 3': 1}, {'Team 4': 23}, {'Team 5': 54}, {'Team 6': 76}, {'Team 7': 87}, {'Team 8': 32}]\n",
      "\n",
      "Round number 1\n",
      "Team 6 vs Team 5\n",
      "Team number won - 6\n",
      "Team 3 vs Team 2\n",
      "Team number won - 2\n",
      "Team 7 vs Team 1\n",
      "Team number won - 7\n",
      "Team 8 vs Team 4\n",
      "Team number won - 8\n",
      "\n",
      "Round number 2\n",
      "Team 6 vs Team 2\n",
      "Team number won - 6\n",
      "Team 7 vs Team 8\n",
      "Team number won - 7\n",
      "\n",
      "Round number 3\n",
      "Team 6 vs Team 7\n",
      "Team number won - 6\n",
      "\n",
      "\n",
      "Winner - Team 6\n"
     ]
    }
   ],
   "source": [
    "k = None\n",
    "while not k or k > 6:\n",
    "    k = int(input(\"Input team number (k):\\n\"))\n",
    "rates = get_team_rates(k)\n",
    "playing_teams = list(range(1, 2 ** k + 1))\n",
    "print_rates(rates)\n",
    "\n",
    "for i in range(k):\n",
    "    playing_teams = play_round(playing_teams, rates, i)\n",
    "\n",
    "print(f'\\n\\nWinner - Team {playing_teams[0]}')"
   ]
  }
 ],
 "metadata": {
  "kernelspec": {
   "display_name": ".venv",
   "language": "python",
   "name": "python3"
  },
  "language_info": {
   "codemirror_mode": {
    "name": "ipython",
    "version": 3
   },
   "file_extension": ".py",
   "mimetype": "text/x-python",
   "name": "python",
   "nbconvert_exporter": "python",
   "pygments_lexer": "ipython3",
   "version": "3.12.3"
  }
 },
 "nbformat": 4,
 "nbformat_minor": 5
}
