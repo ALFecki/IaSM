{
 "cells": [
  {
   "cell_type": "markdown",
   "metadata": {},
   "source": [
    "### Lab 2. "
   ]
  },
  {
   "cell_type": "markdown",
   "metadata": {},
   "source": [
    "#### Task 1: Simulation of Continuous Random Variables (Inverse Transform Method)"
   ]
  },
  {
   "cell_type": "code",
   "execution_count": 91,
   "metadata": {},
   "outputs": [],
   "source": [
    "import numpy as np\n",
    "import matplotlib.pyplot as plt\n",
    "from sympy import *\n",
    "from sympy import simplify\n",
    "from sympy.abc import x, y\n",
    "from sympy.calculus.util import continuous_domain\n",
    "from scipy.stats import norm, chi2\n",
    "from IPython.display import HTML, display\n"
   ]
  },
  {
   "cell_type": "code",
   "execution_count": 92,
   "metadata": {},
   "outputs": [],
   "source": [
    "inverse_function = \"\"\n",
    "distribution_expression = \"\"\n",
    "plt.rcParams[\"figure.figsize\"] = (10, 30)\n",
    "number_of_dots = 1000\n",
    "gamma = 0.95\n",
    "hypothesis_error_value = 0.05 \n",
    "\n",
    "\n",
    "def display_table(data):\n",
    "    html = \"<table style='border-collapse: collapse; width: 100%;'>\"\n",
    "    for row in data:\n",
    "        html += \"<tr>\"\n",
    "        for field in row:\n",
    "            html += \"<td style='border: 1px solid black; padding: 8px;'><h4>%s</h4></td>\" % (field)\n",
    "        html += \"</tr>\"\n",
    "    html += \"</table>\"\n",
    "    display(HTML(html))\n"
   ]
  },
  {
   "cell_type": "markdown",
   "metadata": {},
   "source": [
    "#### Linear Congruential Method"
   ]
  },
  {
   "cell_type": "code",
   "execution_count": 93,
   "metadata": {},
   "outputs": [],
   "source": [
    "class LinearCongruentialGenerator:\n",
    "    seed = 42\n",
    "    alpha = 1664525\n",
    "    c = 1013904223\n",
    "    m = 2 ** 32\n",
    "    x_current = seed\n",
    "     \n",
    "    @staticmethod\n",
    "    def random():\n",
    "        LinearCongruentialGenerator.x_current = (LinearCongruentialGenerator.alpha * LinearCongruentialGenerator.x_current + LinearCongruentialGenerator.c) % LinearCongruentialGenerator.m\n",
    "        return LinearCongruentialGenerator.x_current / LinearCongruentialGenerator.m"
   ]
  },
  {
   "cell_type": "markdown",
   "metadata": {},
   "source": [
    "#### Find inverse function"
   ]
  },
  {
   "cell_type": "code",
   "execution_count": 94,
   "metadata": {},
   "outputs": [],
   "source": [
    "# Define symbols\n",
    "x, y = symbols('x y')\n",
    "gamma = 0.95  # Confidence level\n",
    "number_of_tests = 30  # Example number of tests\n",
    "generator = LinearCongruentialGenerator()  # Assuming CustomGenerator is defined elsewhere"
   ]
  },
  {
   "cell_type": "code",
   "execution_count": 95,
   "metadata": {},
   "outputs": [],
   "source": [
    "def find_inverse_function(input_text): \n",
    "    global inverse_function\n",
    "    ex = sympify(input_text)\n",
    "    results = solve(ex - y, x)  # Solve for x in terms of y\n",
    "    \n",
    "    for result in results:\n",
    "        is_continuous = continuous_domain(result, y, S.Reals).is_proper_superset(Interval(0, 1))\n",
    "        derivative = diff(result, y)\n",
    "        derivative_positive = solve(derivative > 0, y, domain=S.Reals)\n",
    "        \n",
    "        if derivative_positive and is_continuous:\n",
    "            print(f\"Inverse function: {result}\")\n",
    "            inverse_function = lambdify(y, result)\n",
    "            return  # Exit after finding the first valid inverse function\n",
    "\n",
    "    print(\"Inverse function not found\")"
   ]
  },
  {
   "cell_type": "markdown",
   "metadata": {},
   "source": [
    "#### Generating data"
   ]
  },
  {
   "cell_type": "code",
   "execution_count": 96,
   "metadata": {},
   "outputs": [],
   "source": [
    "def generate_func_data(amount):\n",
    "    global inverse_function\n",
    "    return [inverse_function(generator.random()) for _ in range(amount)]  # List comprehension for efficiency"
   ]
  },
  {
   "cell_type": "markdown",
   "metadata": {},
   "source": [
    "#### Calculating means"
   ]
  },
  {
   "cell_type": "code",
   "execution_count": 97,
   "metadata": {},
   "outputs": [],
   "source": [
    "def calculate_sample_mean(sample):\n",
    "    return sum(sample) / len(sample)\n",
    "\n",
    "def calculate_theoretical_mean(func, limits):\n",
    "    return integrate(x * func, (x, limits[0], limits[1]))"
   ]
  },
  {
   "cell_type": "markdown",
   "metadata": {},
   "source": [
    "#### Calculating variances"
   ]
  },
  {
   "cell_type": "code",
   "execution_count": 98,
   "metadata": {},
   "outputs": [],
   "source": [
    "def calculate_sample_variance(sample):\n",
    "    sample_mean = calculate_sample_mean(sample)\n",
    "    variance = sum((x - sample_mean) ** 2 for x in sample) / len(sample)\n",
    "    return variance\n",
    "\n",
    "def calculate_theoretical_variance(func, limits, theoretical_mean):\n",
    "    integral = integrate(x ** 2 * func, (x, limits[0], limits[1]))\n",
    "    theoretical_variance = integral - theoretical_mean ** 2\n",
    "    return theoretical_variance.evalf()"
   ]
  },
  {
   "cell_type": "code",
   "execution_count": 99,
   "metadata": {},
   "outputs": [],
   "source": [
    "def get_delta(offset):\n",
    "    t = norm.ppf(gamma / 2 + 0.5)  # Quantile\n",
    "    return t * offset / np.sqrt(number_of_tests)  # Margin of Error\n",
    "\n",
    "def get_offset_delta(test_offset): \n",
    "    alphas = ((1 - gamma) / 2, (1 + gamma) / 2)  # Boundaries for chi-squared quantiles\n",
    "    chis = chi2.isf(alphas, number_of_tests - 1) \n",
    "    temp = np.sqrt(number_of_tests - 1) * test_offset\n",
    "    \n",
    "    return (temp / np.sqrt(chis[0]), temp / np.sqrt(chis[1]))  # Return confidence intervals"
   ]
  },
  {
   "cell_type": "markdown",
   "metadata": {},
   "source": [
    "#### Continuous random variable"
   ]
  },
  {
   "cell_type": "code",
   "execution_count": 100,
   "metadata": {},
   "outputs": [
    {
     "name": "stdout",
     "output_type": "stream",
     "text": [
      "Inverse function: sqrt(4*y + 1)/2 + 1/2\n"
     ]
    }
   ],
   "source": [
    "func = input(\"Your function:\\n\")\n",
    "find_inverse_function(func)\n"
   ]
  },
  {
   "cell_type": "code",
   "execution_count": 101,
   "metadata": {},
   "outputs": [],
   "source": [
    "number_of_tests = int(input(\"Amount of random values:\\n\"))\n",
    "\n",
    "func_data = generate_func_data(number_of_tests)\n",
    "\n",
    "limits = (inverse_function(0), inverse_function(1))"
   ]
  },
  {
   "cell_type": "code",
   "execution_count": 102,
   "metadata": {},
   "outputs": [],
   "source": [
    "ex = simplify(func)\n",
    "derivate = diff(ex, x)\n",
    "\n",
    "sample_mean = calculate_sample_mean(func_data) \n",
    "sample_variance = calculate_sample_variance(func_data) \n",
    "sample_std_deviation = sqrt(sample_variance)\n",
    "\n",
    "theoretical_mean = calculate_theoretical_mean(derivate, limits)\n",
    "theoretical_variance = calculate_theoretical_variance(derivate, limits, theoretical_mean)\n",
    "theoretical_std_deviation = sqrt(theoretical_variance)"
   ]
  },
  {
   "cell_type": "code",
   "execution_count": 103,
   "metadata": {},
   "outputs": [
    {
     "data": {
      "text/html": [
       "<table style='border-collapse: collapse; width: 100%;'><tr><td style='border: 1px solid black; padding: 8px;'><h4>Description</h4></td><td style='border: 1px solid black; padding: 8px;'><h4>Sample value</h4></td><td style='border: 1px solid black; padding: 8px;'><h4>Theoretical value</h4></td></tr><tr><td style='border: 1px solid black; padding: 8px;'><h4>Mean</h4></td><td style='border: 1px solid black; padding: 8px;'><h4>1.3491713791601878</h4></td><td style='border: 1px solid black; padding: 8px;'><h4>1.34836165729158</h4></td></tr><tr><td style='border: 1px solid black; padding: 8px;'><h4>Variance</h4></td><td style='border: 1px solid black; padding: 8px;'><h4>0.03014907255383261</h4></td><td style='border: 1px solid black; padding: 8px;'><h4>0.0302824984374856</h4></td></tr><tr><td style='border: 1px solid black; padding: 8px;'><h4>Deviation</h4></td><td style='border: 1px solid black; padding: 8px;'><h4>0.173634882883114</h4></td><td style='border: 1px solid black; padding: 8px;'><h4>0.174018672669015</h4></td></tr></table>"
      ],
      "text/plain": [
       "<IPython.core.display.HTML object>"
      ]
     },
     "metadata": {},
     "output_type": "display_data"
    }
   ],
   "source": [
    "# Prepare data for display\n",
    "data1 = [\n",
    "    ['Description', 'Sample value', 'Theoretical value'],\n",
    "    [\"Mean\", sample_mean, theoretical_mean],\n",
    "    [\"Variance\", sample_variance, theoretical_variance],\n",
    "    [\"Deviation\", sample_std_deviation, theoretical_std_deviation]\n",
    "]\n",
    "\n",
    "# Display the table\n",
    "display_table(data1)"
   ]
  },
  {
   "cell_type": "code",
   "execution_count": 104,
   "metadata": {},
   "outputs": [
    {
     "data": {
      "image/png": "[encoded data removed]",
      "text/plain": [
       "<Figure size 1000x3000 with 2 Axes>"
      ]
     },
     "metadata": {},
     "output_type": "display_data"
    }
   ],
   "source": [
    "# Define the histogram\n",
    "hist, bins = np.histogram(func_data, bins=number_of_dots, range=limits)\n",
    "plt.subplot(6, 1, 1)\n",
    "plt.tight_layout(pad=5)\n",
    "plt.hist(func_data, color=\"skyblue\", bins=number_of_dots, range=limits, alpha=0.7)\n",
    "plt.xlim(limits)\n",
    "plt.title(\"Density Distribution\")\n",
    "\n",
    "# Build the derivative plot\n",
    "derivative_expr = diff(ex, x)\n",
    "length = (limits[1] - limits[0]) / number_of_dots  # step\n",
    "dots = np.arange(limits[0] + length / 2, limits[1], length)  # points for derivative estimation\n",
    "derivative = lambdify(x, length * number_of_tests * derivative_expr)\n",
    "results = derivative(dots)  # Use vectorization\n",
    "\n",
    "plt.plot(dots, results, marker='o', color=\"orange\", label='Derivative')\n",
    "\n",
    "# Cumulative frequency histogram\n",
    "extra_hist = np.cumsum(hist)  # Use cumsum for accumulation\n",
    "plt.subplot(6, 1, 2)\n",
    "plt.bar(bins[:-1], extra_hist, width=length, align=\"edge\", color='lightgreen', alpha=0.7)\n",
    "\n",
    "# Distribution function\n",
    "distribution_function = lambdify(x, number_of_tests * ex)\n",
    "distribution_dots = np.arange(limits[0] + length, limits[1] + length / 10, length)\n",
    "distribution_results = distribution_function(distribution_dots)\n",
    "\n",
    "plt.plot(distribution_dots, distribution_results, marker='o', color=\"red\", label='Distribution Function')\n",
    "plt.title(\"Distribution Function\")\n",
    "plt.legend()  # Add a legend to label the plots\n",
    "plt.show()\n"
   ]
  },
  {
   "cell_type": "code",
   "execution_count": 105,
   "metadata": {},
   "outputs": [],
   "source": [
    "delta = get_delta(theoretical_std_deviation)\n",
    "offset_delta = get_offset_delta(sample_std_deviation)"
   ]
  },
  {
   "cell_type": "code",
   "execution_count": 106,
   "metadata": {},
   "outputs": [
    {
     "data": {
      "text/html": [
       "<table style='border-collapse: collapse; width: 100%;'><tr><td style='border: 1px solid black; padding: 8px;'><h4>Description</h4></td><td style='border: 1px solid black; padding: 8px;'><h4>Expected Value</h4></td><td style='border: 1px solid black; padding: 8px;'><h4>Variance</h4></td></tr><tr><td style='border: 1px solid black; padding: 8px;'><h4>Sample</h4></td><td style='border: 1px solid black; padding: 8px;'><h4>1.3491713791601878</h4></td><td style='border: 1px solid black; padding: 8px;'><h4>0.03014907255383261</h4></td></tr><tr><td style='border: 1px solid black; padding: 8px;'><h4>Theoretical</h4></td><td style='border: 1px solid black; padding: 8px;'><h4>1.34836165729158</h4></td><td style='border: 1px solid black; padding: 8px;'><h4>0.0302824984374856</h4></td></tr><tr><td style='border: 1px solid black; padding: 8px;'><h4>Confidence Interval Start</h4></td><td style='border: 1px solid black; padding: 8px;'><h4>1.34809282007170</h4></td><td style='border: 1px solid black; padding: 8px;'><h4>0.0298865432679567</h4></td></tr><tr><td style='border: 1px solid black; padding: 8px;'><h4>Confidence Interval End</h4></td><td style='border: 1px solid black; padding: 8px;'><h4>1.35024993824867</h4></td><td style='border: 1px solid black; padding: 8px;'><h4>0.0304150923998112</h4></td></tr></table>"
      ],
      "text/plain": [
       "<IPython.core.display.HTML object>"
      ]
     },
     "metadata": {},
     "output_type": "display_data"
    }
   ],
   "source": [
    "# Calculate the square of the offset delta\n",
    "val = np.square(offset_delta)\n",
    "\n",
    "# Prepare the data for display\n",
    "data = [\n",
    "    ['Description', 'Expected Value', 'Variance'],\n",
    "    ['Sample', sample_mean, sample_variance],\n",
    "    ['Theoretical', theoretical_mean, theoretical_variance],\n",
    "    ['Confidence Interval Start', sample_mean - delta, val[0]],\n",
    "    ['Confidence Interval End', sample_mean + delta, val[1]]\n",
    "]\n",
    "\n",
    "# Display the table\n",
    "display_table(data)"
   ]
  },
  {
   "cell_type": "code",
   "execution_count": 107,
   "metadata": {},
   "outputs": [],
   "source": [
    "# Calculate degrees of freedom\n",
    "k = number_of_dots - 3  # Degrees of freedom (number_of_dots - 2 - 1)\n",
    "\n",
    "# Calculate the critical value for the chi-squared distribution\n",
    "critical_value = chi2.isf(hypothesis_error_value, k)\n",
    "\n",
    "# Calculate the chi-squared statistic for the sample\n",
    "normal_value = sum(np.square(hist[i] - results[i]) / results[i] for i in range(number_of_dots))\n",
    "\n",
    "# Determine whether to accept or reject the hypothesis\n",
    "result_for_print = \"accept\" if normal_value < critical_value else \"reject\"\n"
   ]
  },
  {
   "cell_type": "code",
   "execution_count": 108,
   "metadata": {},
   "outputs": [
    {
     "data": {
      "text/html": [
       "<table style='border-collapse: collapse; width: 100%;'><tr><td style='border: 1px solid black; padding: 8px;'><h4>Description</h4></td><td style='border: 1px solid black; padding: 8px;'><h4>Value</h4></td></tr><tr><td style='border: 1px solid black; padding: 8px;'><h4>Critical Chi-squared</h4></td><td style='border: 1px solid black; padding: 8px;'><h4>1071.568999044425</h4></td></tr><tr><td style='border: 1px solid black; padding: 8px;'><h4>Sample Chi-squared</h4></td><td style='border: 1px solid black; padding: 8px;'><h4>951.641827241789</h4></td></tr><tr><td style='border: 1px solid black; padding: 8px;'><h4>Hypothesis Acceptance</h4></td><td style='border: 1px solid black; padding: 8px;'><h4>accept</h4></td></tr></table>"
      ],
      "text/plain": [
       "<IPython.core.display.HTML object>"
      ]
     },
     "metadata": {},
     "output_type": "display_data"
    }
   ],
   "source": [
    "# Prepare data for display\n",
    "data1 = [\n",
    "    ['Description', 'Value'],\n",
    "    [\"Critical Chi-squared\", critical_value],\n",
    "    [\"Sample Chi-squared\", normal_value],\n",
    "    [\"Hypothesis Acceptance\", result_for_print]\n",
    "]\n",
    "\n",
    "# Display the table\n",
    "display_table(data1)"
   ]
  },
  {
   "cell_type": "markdown",
   "metadata": {},
   "source": [
    "#### Task 2. SIMULATION OF DISCRETE RANDOM VARIABLES (with a given distribution law)"
   ]
  },
  {
   "cell_type": "code",
   "execution_count": 109,
   "metadata": {},
   "outputs": [],
   "source": [
    "inverse_function = \"\"\n",
    "distribution_expression = \"\"\n",
    "plt.rcParams[\"figure.figsize\"] = (10, 30)\n",
    "max_value1 = 40\n",
    "gamma1 = 0.95\n",
    "number_of_dots1 = 20\n",
    "hypothesis_error_value1 = 0.05"
   ]
  },
  {
   "cell_type": "code",
   "execution_count": 110,
   "metadata": {},
   "outputs": [],
   "source": [
    "generator1 = LinearCongruentialGenerator()\n",
    "\n",
    "def get_random1():\n",
    "    random_number = generator1.random()\n",
    "    \n",
    "    for i in range(max_value1):\n",
    "        probability = p_prob1 * (1 - p_prob1) ** i\n",
    "        \n",
    "        if random_number < probability:\n",
    "            return i + 1\n",
    "        \n",
    "        random_number -= probability\n",
    "        \n",
    "    return max_value1"
   ]
  },
  {
   "cell_type": "code",
   "execution_count": 111,
   "metadata": {},
   "outputs": [],
   "source": [
    "def get_random_data():\n",
    "    result = []\n",
    "    \n",
    "    for i in range(number_of_tests1):\n",
    "        result.append(get_random1())\n",
    "    \n",
    "    return result"
   ]
  },
  {
   "cell_type": "code",
   "execution_count": 112,
   "metadata": {},
   "outputs": [],
   "source": [
    "def get_mean(data):\n",
    "    return sum(data) / number_of_tests1\n",
    "\n",
    "def get_theoretical_mean():\n",
    "    return 1 / p_prob1"
   ]
  },
  {
   "cell_type": "code",
   "execution_count": 113,
   "metadata": {},
   "outputs": [],
   "source": [
    "def get_theoretical_variance():\n",
    "    return (1 - p_prob1) / np.square(p_prob1)\n",
    "\n",
    "def get_variance(data, mean):\n",
    "    result = 0\n",
    "    \n",
    "    for item in data:\n",
    "        result += (item - mean) ** 2\n",
    "        \n",
    "    return result / number_of_tests1\n"
   ]
  },
  {
   "cell_type": "code",
   "execution_count": 114,
   "metadata": {},
   "outputs": [],
   "source": [
    "def get_delta1(offset):\n",
    "    t = norm.ppf(gamma1 / 2 + 0.5)\n",
    "    return t * offset / np.sqrt(number_of_tests1)\n",
    "\n",
    "def get_offset_delta1(test_offset):\n",
    "    alphas = ((1 - gamma1) / 2, (1 + gamma1) / 2)\n",
    "    chis = (chi2.isf(alphas, number_of_tests1 - 1))\n",
    "    corrected_offset = sqrt((test_offset ** 2) * number_of_tests1 / (number_of_tests1 - 1))\n",
    "    temp = np.sqrt(number_of_tests1 - 1) * corrected_offset\n",
    "    \n",
    "    return (temp / np.sqrt(chis[0]), temp / np.sqrt(chis[1]))\n"
   ]
  },
  {
   "cell_type": "code",
   "execution_count": 115,
   "metadata": {},
   "outputs": [],
   "source": [
    "# Prompt the user for input\n",
    "number_of_tests1 = int(input(\"Enter the number of values to be generated:\\n\"))\n",
    "p_prob1 = float(input(\"Enter the probability:\\n\"))"
   ]
  },
  {
   "cell_type": "code",
   "execution_count": 116,
   "metadata": {},
   "outputs": [],
   "source": [
    "data = get_random_data()\n",
    "mean = get_mean(data)\n",
    "theor_mean = get_theoretical_mean()\n",
    "variance = get_variance(data, mean)\n",
    "teoretical_variance = get_theoretical_variance()\n",
    "standard_deviation1 = sqrt(variance)\n",
    "theoretical_standard_deviation1 = sqrt(theoretical_variance)\n",
    "deltaone = get_delta1(theoretical_standard_deviation1)\n",
    "offset_delta1 = get_offset_delta1(standard_deviation1)"
   ]
  },
  {
   "cell_type": "code",
   "execution_count": 117,
   "metadata": {},
   "outputs": [
    {
     "data": {
      "image/png": "[encoded data removed]",
      "text/plain": [
       "<Figure size 1000x3000 with 1 Axes>"
      ]
     },
     "metadata": {},
     "output_type": "display_data"
    }
   ],
   "source": [
    "# Define limits for the histogram\n",
    "limits = (0.5, max_value1 + 0.5)\n",
    "\n",
    "# Create histogram\n",
    "hist, bins = np.histogram(data, bins=number_of_dots1, range=limits)\n",
    "\n",
    "# Calculate length of each bin\n",
    "length = max_value1 / number_of_dots1\n",
    "\n",
    "# Generate dot positions\n",
    "dots = np.arange(0.5 * (length + 1), max_value1 + length / 2, length)\n",
    "\n",
    "# Define the derivative function\n",
    "derivative = lambdify(x, integrate(number_of_tests1 * p_prob1 * ((1 - p_prob1) ** (x - 1)), (x, x - length / 2, x + length / 2)))\n",
    "results = list(map(derivative, dots))\n",
    "\n",
    "# Create subplot for the cumulative histogram\n",
    "plt.subplot(6, 1, 2)\n",
    "\n",
    "# Create a cumulative histogram\n",
    "extra_hist = hist.copy()\n",
    "for i in range(1, len(hist)):\n",
    "    extra_hist[i] += extra_hist[i - 1]\n",
    "\n",
    "# Plot the cumulative histogram\n",
    "ax = plt.gca()\n",
    "ax.bar(bins[:-1], extra_hist, width=length, color=\"lightgreen\")\n",
    "plt.xlim(limits)\n",
    "\n",
    "# Define the distribution function\n",
    "distribution_function = lambdify(x, number_of_tests1 * (1 - (1 - p_prob1) ** x))\n",
    "distribution_dots = np.arange(limits[0] + length, limits[1] + length / 10, length)\n",
    "\n",
    "# Calculate distribution results\n",
    "distribution_results = list(map(distribution_function, distribution_dots))\n",
    "\n",
    "# Plot the distribution function\n",
    "plt.plot(distribution_dots, distribution_results, marker='o', color=\"blue\")\n",
    "plt.title(\"Distribution Function\")\n",
    "plt.show()"
   ]
  },
  {
   "cell_type": "code",
   "execution_count": 118,
   "metadata": {},
   "outputs": [],
   "source": [
    "k = number_of_dots1 - 2 - 1\n",
    "critical_value = chi2.isf(hypothesis_error_value1, k)\n",
    "normal_value = 0\n",
    "    \n",
    "for i in range(number_of_dots1):\n",
    "    normal_value += np.square(hist[i] - results[i]) / results[i]\n",
    "    "
   ]
  },
  {
   "cell_type": "code",
   "execution_count": 119,
   "metadata": {},
   "outputs": [
    {
     "data": {
      "text/html": [
       "<table style='border-collapse: collapse; width: 100%;'><tr><td style='border: 1px solid black; padding: 8px;'><h4>Description</h4></td><td style='border: 1px solid black; padding: 8px;'><h4>Mathematical Expectation</h4></td><td style='border: 1px solid black; padding: 8px;'><h4>Variance</h4></td></tr><tr><td style='border: 1px solid black; padding: 8px;'><h4>Sample</h4></td><td style='border: 1px solid black; padding: 8px;'><h4>2.15</h4></td><td style='border: 1px solid black; padding: 8px;'><h4>2.217500000000012</h4></td></tr><tr><td style='border: 1px solid black; padding: 8px;'><h4>Theoretical</h4></td><td style='border: 1px solid black; padding: 8px;'><h4>2.2222222222222223</h4></td><td style='border: 1px solid black; padding: 8px;'><h4>0.0302824984374856</h4></td></tr><tr><td style='border: 1px solid black; padding: 8px;'><h4>Confidence Interval Start</h4></td><td style='border: 1px solid black; padding: 8px;'><h4>2.13921440911515</h4></td><td style='border: 1px solid black; padding: 8px;'><h4>2.03723136980654</h4></td></tr><tr><td style='border: 1px solid black; padding: 8px;'><h4>Confidence Interval End</h4></td><td style='border: 1px solid black; padding: 8px;'><h4>2.16078559088485</h4></td><td style='border: 1px solid black; padding: 8px;'><h4>2.42800566748804</h4></td></tr></table>"
      ],
      "text/plain": [
       "<IPython.core.display.HTML object>"
      ]
     },
     "metadata": {},
     "output_type": "display_data"
    }
   ],
   "source": [
    "# Calculate the square of offset_delta1\n",
    "val = np.square(offset_delta1)\n",
    "\n",
    "# Prepare data for the table\n",
    "data = [\n",
    "    ['Description', 'Mathematical Expectation', 'Variance'],\n",
    "    ['Sample', mean, variance],\n",
    "    ['Theoretical', theor_mean, theoretical_variance],\n",
    "    ['Confidence Interval Start', mean - deltaone, val[0]],\n",
    "    ['Confidence Interval End', mean + deltaone, val[1]]\n",
    "]\n",
    "\n",
    "# Display the table\n",
    "display_table(data)\n"
   ]
  },
  {
   "cell_type": "code",
   "execution_count": 120,
   "metadata": {},
   "outputs": [
    {
     "data": {
      "text/html": [
       "<table style='border-collapse: collapse; width: 100%;'><tr><td style='border: 1px solid black; padding: 8px;'><h4>Description</h4></td><td style='border: 1px solid black; padding: 8px;'><h4>Value</h4></td></tr><tr><td style='border: 1px solid black; padding: 8px;'><h4>Critical Chi-Square</h4></td><td style='border: 1px solid black; padding: 8px;'><h4>27.587111638275335</h4></td></tr><tr><td style='border: 1px solid black; padding: 8px;'><h4>Sample Chi-Square</h4></td><td style='border: 1px solid black; padding: 8px;'><h4>4.227946287500863</h4></td></tr><tr><td style='border: 1px solid black; padding: 8px;'><h4>Hypothesis Acceptance</h4></td><td style='border: 1px solid black; padding: 8px;'><h4>accept</h4></td></tr></table>"
      ],
      "text/plain": [
       "<IPython.core.display.HTML object>"
      ]
     },
     "metadata": {},
     "output_type": "display_data"
    }
   ],
   "source": [
    "# Determine the result of the hypothesis test\n",
    "result_for_print = \"accept\" if normal_value < critical_value else \"reject\"\n",
    "\n",
    "# Prepare data for the table\n",
    "data1 = [\n",
    "    ['Description', 'Value'],\n",
    "    [\"Critical Chi-Square\", critical_value],\n",
    "    [\"Sample Chi-Square\", normal_value],  \n",
    "    [\"Hypothesis Acceptance\", result_for_print]\n",
    "]\n",
    "# Display the table\n",
    "display_table(data1)\n"
   ]
  }
 ],
 "metadata": {
  "kernelspec": {
   "display_name": ".venv",
   "language": "python",
   "name": "python3"
  },
  "language_info": {
   "codemirror_mode": {
    "name": "ipython",
    "version": 3
   },
   "file_extension": ".py",
   "mimetype": "text/x-python",
   "name": "python",
   "nbconvert_exporter": "python",
   "pygments_lexer": "ipython3",
   "version": "3.12.3"
  }
 },
 "nbformat": 4,
 "nbformat_minor": 2
}
